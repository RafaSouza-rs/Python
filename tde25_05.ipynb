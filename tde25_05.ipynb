{
  "nbformat": 4,
  "nbformat_minor": 0,
  "metadata": {
    "colab": {
      "provenance": [],
      "authorship_tag": "ABX9TyMwDN3pHNqKtXXkHThs8chz",
      "include_colab_link": true
    },
    "kernelspec": {
      "name": "python3",
      "display_name": "Python 3"
    },
    "language_info": {
      "name": "python"
    }
  },
  "cells": [
    {
      "cell_type": "markdown",
      "metadata": {
        "id": "view-in-github",
        "colab_type": "text"
      },
      "source": [
        "<a href=\"https://colab.research.google.com/github/RafaSouza-rs/Python/blob/main/tde25_05.ipynb\" target=\"_parent\"><img src=\"https://colab.research.google.com/assets/colab-badge.svg\" alt=\"Open In Colab\"/></a>"
      ]
    },
    {
      "cell_type": "markdown",
      "source": [
        "1- Identifique e responda, qual a variável estatística representada em cada coluna do dataframe?"
      ],
      "metadata": {
        "id": "0MKEvU3NHqV0"
      }
    },
    {
      "cell_type": "markdown",
      "source": [
        "Sede: Qualitativa. \n",
        "Ano: Quantitativa. \n",
        "Distancia: Quantitativa. \n",
        "Estilo: Qualitativa. \n",
        "Revesamento: Quantitativa. \n",
        "Genero: Qualitativa.\n",
        "Equipe: Qualitativa. \n",
        "Atleta: Qualitativa. \n",
        "Tempo: Quantitativa. \n",
        "Posiçao: Quantitativa."
      ],
      "metadata": {
        "id": "c0j8tML7QhJd"
      }
    },
    {
      "cell_type": "markdown",
      "source": [
        "2- Identifique e responda, qual a medida de resumo mais adequada para cada variável numérica? justifique cada uma delas.\n",
        "\n"
      ],
      "metadata": {
        "id": "pfVLATAORHRf"
      }
    },
    {
      "cell_type": "markdown",
      "source": [
        "Ano: Moda, para resumir dados categoricos como a quantidade de anos. \n",
        "Distancia: Media, para representar a distancia media percorrida. \n",
        "Revezamento: Moda, que é utilizada para resumir dados categoricos.\n",
        "Tempo: Media, para representar o tempo médio necessário para completar a tarefa.\n",
        "Posiçao: "
      ],
      "metadata": {
        "id": "j-b5WfCFR-Ut"
      }
    },
    {
      "cell_type": "markdown",
      "source": [
        "3- Qual atleta teve o maior número de participações em provas masculinas?"
      ],
      "metadata": {
        "id": "fMhbtRvcVdSb"
      }
    },
    {
      "cell_type": "code",
      "source": [
        "import pandas as pd\n",
        "df = pd.read_csv('natacao.csv')\n",
        "provas_masculinas = df[df['genero'] == 'masculino']\n",
        "participacoes_por_atleta = provas_masculinas.groupby('atleta').size()\n",
        "atleta_mais_participacoes = participacoes_por_atleta.idxmax()\n",
        "print(\"O atleta com o maior número de participações em provas masculinas é:\", atleta_mais_participacoes)"
      ],
      "metadata": {
        "id": "0yKLMiHhXEkD"
      },
      "execution_count": null,
      "outputs": []
    },
    {
      "cell_type": "markdown",
      "source": [
        "4- Qual atleta teve o maior número de participações em provas femininas?"
      ],
      "metadata": {
        "id": "vmGNhpbTZ_Z0"
      }
    },
    {
      "cell_type": "code",
      "source": [
        "import pandas as pd\n",
        "df = pd.read_csv('natacao.csv')\n",
        "provas_femininas = df[df['genero'] == 'feminino']\n",
        "participacoes_por_atleta = provas_femininas.groupby('atleta').size()\n",
        "atleta_mais_participacoes = participacoes_por_atleta.idxmax()\n",
        "print(\"A atleta com o maior número de participações em provas femininas é:\", atleta_mais_participacoes)"
      ],
      "metadata": {
        "id": "55-Jv1dlaFJn"
      },
      "execution_count": null,
      "outputs": []
    }
  ]
}