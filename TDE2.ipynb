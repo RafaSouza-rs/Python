Importamos a biblioteca pandas.
Atribuimos a variável df o DataFrame resultante do método read_csv do pandas. 
O método read_csv lê arquivos csv o os converte em DataFrame.
import pandas as pd
df = pd.read_csv('baseBancoDigital.csv', sep = ';')
##Responda:
###Qual tipo de fonte de dados estamos utilizando neste projeto?
Banco de dados relacional
Vererifique o tipo abaixo é DataFrame
print(type(df))
###Execute o código abaixo:
df.head()
##Responda:
### O que faz o método head()?
Exibe uma visualizaçao rapida das primeiras linhas do codigo escrito 
Podemos isolar uma coluna específica do DataFrame, veja:


df['Estado']
O método describe() exibe as variáveis estatísticas da coluna selecionada no DataFrame.


df['Estado'].describe()
###Interpretando os dados acima:

count: número de linhas do dataframe

unique: quantidade de valores distintos da coluna Estado

top: valor com maior recorrência na coluna Estado

freq: quantidade de vezes que o top se repete

Name: nome da coluna

dtype: tipo de dado que a coluna recebe
##Execute o método abaixo: 
O método info() exibe o nome das colunas do dataframe.
df.info()
##Execute o código abaixo:
O método hist() exibe um histograma dos dados numéricos do dataframe.
df.hist()
O método isnull() retorna um booleano indicando se o dado é nulo ou não, utilizamos o método sum() para somar os valores true.
df.isnull().sum()
##Faça uma análise
Analise os dados da tabela acima, citando quais colunas do dataframe possuem valores nulos e o que isso poderia representar como resultado.
Apenas duas colunas Genero e Salario existem valores nulos.
Genero com 8 nulos poderia reprentar o genero das pessoas no banco de dados.
Salario com 7 nulos poderia representar o salario das pessoas do banco de dados.


O método groupby() permite realizar agrupamentos, mas atenção, sempre que utilizar um agrupamento deve ser utilizada uma função de grupo como soma, média, mediana, contagem.
df.groupby('Estado').size()
##Execute o código abaixo e responda:
###Pela sua percepção, o que faz o método corr()? 
Calcula e encontra relacoes entre colunas
df.corr()
A propriedade plot, permite exibir gráficos.
df['Estado'].value_counts().plot.bar()
Agora considere o seguinte: Na regra de negócio do banco digital, são aceitos apenas clientes da região sul. Verifique que o DataFrame tem estados inválidos como "TD" e "SP". Então precisaremos realizar uma limpeza desses dados.
Abaixo listamos os dados estatísticos para buscar pelo estado que mais se repete (Moda). A moda pode ser identificada como "top".
 
df['Estado'].describe()
Então realizamos a substituição de qualquer estado que estiver fora do domínio (Região Sul) para ser substituído pela moda "RS".
estadosDoSul = ['RS','SC','PR']
estadosValidos = df['Estado'].isin(estadosDoSul) #Retorna um DataFrame de Booleanos caso o estado combine com o array estadosDoSul
df.loc[~estadosValidos,'Estado'] = 'RS' # O ~ indica negação, ou seja o método ira localizar os estados que não sejam válidos.
df['Estado'].value_counts().plot.bar()
Observe que temos 7 salários sem valor, iremos preenche-los com a média salarial.
df['Salario'].isnull().sum()
O método mean() exibe a média.
mediaSalarial = df['Salario'].mean()
mediaSalarial

Utilizamos a propriedade loc para buscar pelos valores de salário nulos. Em seguida atribuimos a média salarial a eles.
df.loc[df['Salario'].isnull(), 'Salario'] = mediaSalarial;
###Faça uma análise descritiva da coluna Gênero, encontre os problemas e realize a higienização dos dados.
A coluna genero aparenta reprentar o genero das pessoas no banco de dados, porem existem alguns nulos, estes valores nulos podem ser preenchidos com um valor padrao, por exemplo "outros" ou "nao informado". 
df['Genero'].value_counts().plot.bar()
##Faça uma análise descritiva da coluna Idade, encontre os problemas e faça a higienização dos dados.
df['Idade'].describe()
